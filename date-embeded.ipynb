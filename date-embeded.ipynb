{
 "cells": [
  {
   "cell_type": "code",
   "execution_count": 2,
   "metadata": {},
   "outputs": [
    {
     "name": "stdout",
     "output_type": "stream",
     "text": [
      "Collecting hijri_converter\n",
      "  Downloading hijri_converter-2.3.1-py3-none-any.whl.metadata (2.7 kB)\n",
      "Downloading hijri_converter-2.3.1-py3-none-any.whl (13 kB)\n",
      "Installing collected packages: hijri_converter\n",
      "Successfully installed hijri_converter-2.3.1\n"
     ]
    },
    {
     "name": "stderr",
     "output_type": "stream",
     "text": [
      "\n",
      "[notice] A new release of pip is available: 24.2 -> 24.3.1\n",
      "[notice] To update, run: python.exe -m pip install --upgrade pip\n"
     ]
    },
    {
     "name": "stdout",
     "output_type": "stream",
     "text": [
      "Collecting jdatetime\n",
      "  Downloading jdatetime-5.0.0-py3-none-any.whl.metadata (5.4 kB)\n",
      "Collecting jalali-core>=1.0 (from jdatetime)\n",
      "  Downloading jalali_core-1.0.0-py3-none-any.whl.metadata (738 bytes)\n",
      "Downloading jdatetime-5.0.0-py3-none-any.whl (12 kB)\n",
      "Downloading jalali_core-1.0.0-py3-none-any.whl (3.6 kB)\n",
      "Installing collected packages: jalali-core, jdatetime\n",
      "Successfully installed jalali-core-1.0.0 jdatetime-5.0.0\n"
     ]
    },
    {
     "name": "stderr",
     "output_type": "stream",
     "text": [
      "\n",
      "[notice] A new release of pip is available: 24.2 -> 24.3.1\n",
      "[notice] To update, run: python.exe -m pip install --upgrade pip\n"
     ]
    }
   ],
   "source": [
    "!pip install hijri_converter\n",
    "!pip install jdatetime"
   ]
  },
  {
   "cell_type": "code",
   "execution_count": 6,
   "metadata": {},
   "outputs": [
    {
     "name": "stdout",
     "output_type": "stream",
     "text": [
      "{'سال شمسی': 1403, 'شماره ماه شمسی': 8, 'روز از ماه شمسی': 26, 'سال قمری': 1446, 'شماره ماه قمری': 5, 'روز از ماه قمری': 14, 'شماره فصل سال': 3, 'شماره کوارتر سال': 3, 'عدد روز هفته شمسی': 0, 'عدد روز هفته قمری': 5, 'عدد روز از هفته میلادی': 5, 'سال میلادی': 2024, 'شماره ماه میلادی': 11, 'روز از ماه میلادی': 16}\n"
     ]
    }
   ],
   "source": [
    "#!pip install hijri_converter\n",
    "#!pip install jdatetime\n",
    "\n",
    "from datetime import datetime\n",
    "import jdatetime\n",
    "from hijri_converter import convert\n",
    "\n",
    "def convert_date(miladi_date):\n",
    "    # تبدیل رشته تاریخ میلادی به شیء تاریخ\n",
    "    miladi_date = datetime.strptime(miladi_date, \"%Y-%m-%d\")\n",
    "    \n",
    "    # تبدیل به تاریخ شمسی\n",
    "    shamsi_date = jdatetime.date.fromgregorian(year=miladi_date.year, month=miladi_date.month, day=miladi_date.day)\n",
    "    \n",
    "    # تبدیل به تاریخ قمری\n",
    "    hijri_date = convert.Gregorian(miladi_date.year, miladi_date.month, miladi_date.day).to_hijri()\n",
    "    \n",
    "    # محاسبه فصل سال\n",
    "    if shamsi_date.month in [1, 2, 3]:\n",
    "        season = 1  # بهار\n",
    "    elif shamsi_date.month in [4, 5, 6]:\n",
    "        season = 2  # تابستان\n",
    "    elif shamsi_date.month in [7, 8, 9]:\n",
    "        season = 3  # پاییز\n",
    "    else:\n",
    "        season = 4  # زمستان\n",
    "    \n",
    "    # محاسبه کوارتر سال\n",
    "    quarter = (shamsi_date.month - 1) // 3 + 1\n",
    "    \n",
    "    # محاسبه روز هفته شمسی و میلادی\n",
    "    shamsi_weekday = shamsi_date.weekday()  # 0=شنبه, ..., 6=جمعه\n",
    "    hijri_weekday = hijri_date.weekday()  # 0=شنبه, ..., 6=جمعه\n",
    "    miladi_weekday = miladi_date.weekday()  # 0=دوشنبه, ..., 6=یکشنبه\n",
    "    \n",
    "    return {\n",
    "        \"سال شمسی\": shamsi_date.year,\n",
    "        \"شماره ماه شمسی\": shamsi_date.month,\n",
    "        \"روز از ماه شمسی\": shamsi_date.day,\n",
    "        \"سال قمری\": hijri_date.year,\n",
    "        \"شماره ماه قمری\": hijri_date.month,\n",
    "        \"روز از ماه قمری\": hijri_date.day,\n",
    "        \"شماره فصل سال\": season,\n",
    "        \"شماره کوارتر سال\": quarter,\n",
    "        \"عدد روز هفته شمسی\": shamsi_weekday,\n",
    "        \"عدد روز هفته قمری\": hijri_weekday,\n",
    "        \"عدد روز از هفته میلادی\": miladi_weekday,\n",
    "        \"سال میلادی\": miladi_date.year,\n",
    "        \"شماره ماه میلادی\": miladi_date.month,\n",
    "        \"روز از ماه میلادی\": miladi_date.day,\n",
    "    }\n",
    "\n",
    "# مثال استفاده از تابع\n",
    "result = convert_date(\"2024-11-16\")\n",
    "print(result)\n"
   ]
  }
 ],
 "metadata": {
  "kernelspec": {
   "display_name": "Python 3",
   "language": "python",
   "name": "python3"
  },
  "language_info": {
   "codemirror_mode": {
    "name": "ipython",
    "version": 3
   },
   "file_extension": ".py",
   "mimetype": "text/x-python",
   "name": "python",
   "nbconvert_exporter": "python",
   "pygments_lexer": "ipython3",
   "version": "3.11.1"
  }
 },
 "nbformat": 4,
 "nbformat_minor": 2
}
