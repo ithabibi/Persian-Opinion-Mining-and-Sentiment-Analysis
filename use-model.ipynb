{
  "cells": [
    {
      "cell_type": "markdown",
      "metadata": {
        "colab_type": "text",
        "id": "view-in-github"
      },
      "source": [
        "<a href=\"https://colab.research.google.com/github/ithabibi/Persian-Opinion-Mining-and-Sentiment-Analysis/blob/main/use-model.ipynb\" target=\"_parent\"><img src=\"https://colab.research.google.com/assets/colab-badge.svg\" alt=\"Open In Colab\"/></a>"
      ]
    },
    {
      "cell_type": "markdown",
      "metadata": {
        "colab_type": "text",
        "id": "sMNPBU2OwSBw"
      },
      "source": [
        "# Persian Sentiment Analysis With Fasttext language Model and LSTM neural network\n",
        "### Persian sentiment analysis step by step guide\n",
        "\n",
        "\n",
        "---\n",
        "\n",
        "\n",
        "so there are 3 steps we going through with each other "
      ]
    },
    {
      "cell_type": "markdown",
      "metadata": {},
      "source": [
        "# Step1 Load fasttext model"
      ]
    },
    {
      "cell_type": "code",
      "execution_count": null,
      "metadata": {},
      "outputs": [],
      "source": [
        "!wget https://dl.fbaipublicfiles.com/fasttext/vectors-crawl/cc.fa.300.bin.gz\n",
        "!gunzip /content/cc.fa.300.bin.gz\n",
        "\n",
        "!pip install pybind11==2.11.1\n",
        "!pip install fasttext==0.9.2 \n",
        "\n",
        "!pip install pandas==1.5.3\n",
        "!pip install numpy==1.23\n",
        "!pip install hazm==0.7.0\n",
        "\n",
        "import pandas\n",
        "import random\n",
        "import numpy az np\n",
        "import hazm\n",
        "\n",
        "import fasttext \n",
        "\n",
        "%time\n",
        "fasttext_model = fasttext.load_model(\"/content/cc.fa.300.bin\")"
      ]
    },
    {
      "cell_type": "markdown",
      "metadata": {},
      "source": [
        "## Step 2 Load LSTM model"
      ]
    },
    {
      "cell_type": "code",
      "execution_count": null,
      "metadata": {},
      "outputs": [],
      "source": [
        "!wget https://raw.githubusercontent.com/ithabibi/Persian-Opinion-Mining-and-Sentiment-Analysis/main/learned-persian-sentiment-fasttext.model.zip\n",
        "!unzip /content/learned-persian-sentiment-fasttext.model.zip\n",
        "vector_size = 300 #@param {type:\"integer\"}\n",
        "max_no_tokens = 20 #@param {type:\"integer\"}\n",
        "\n",
        "from keras.models import load_model\n",
        "\n",
        "#del model  # deletes the existing model\n",
        "\n",
        "model = load_model('/content/learned-persian-sentiment-fasttext.model')"
      ]
    },
    {
      "cell_type": "markdown",
      "metadata": {},
      "source": [
        "## Step 3 inter persion text and booooom!!!"
      ]
    },
    {
      "cell_type": "code",
      "execution_count": null,
      "metadata": {
        "cellView": "form",
        "colab": {},
        "colab_type": "code",
        "id": "_kLhLv1h7UD_"
      },
      "outputs": [],
      "source": [
        "user_text = \"\\u0633\\u0644\\u0627\\u0645\" #@param {type:\"string\"}\n",
        "from IPython.core.display import display, HTML\n",
        "_normalizer = hazm.Normalizer()\n",
        "if not user_text==\"\":\n",
        "  text_for_test = _normalizer.normalize(user_text)\n",
        "  text_for_test_words = hazm.word_tokenize(text_for_test)\n",
        "  x_text_for_test_words = np.zeros((1,max_no_tokens,vector_size),dtype=K.floatx())\n",
        "  for word in range(0,len(text_for_test_words)):\n",
        "    if word >= max_no_tokens:\n",
        "      break\n",
        "    if text_for_test_words[word] not in fasttext_model.words:\n",
        "      continue\n",
        "    \n",
        "    x_text_for_test_words[0, word, :] = fasttext_model.get_word_vector(text_for_test_words[word])\n",
        "  # print(x_text_for_test_words.shape)\n",
        "  # print(text_for_test_words)\n",
        "  result = model.predict(x_text_for_test_words)\n",
        "  pos_percent = str(int(result[0][1]*100))+\" % 😍\"\n",
        "  neg_percent = str(int(result[0][0]*100))+\" % 🤕\"\n",
        "  display(HTML(\"<div style='text-align: center'><div style='display:inline-block'><img height='64px' width='64px' src='https://image.flaticon.com/icons/svg/260/260205.svg'/><h4>{}</h4></div> | <div style='display:inline-block'><img height='64px' width='64px' src=''/><h4>{}</h4></div></div>\".format(pos_percent,neg_percent)))\n",
        "else:\n",
        "  print(\"Please enter your text\")"
      ]
    }
  ],
  "metadata": {
    "accelerator": "GPU",
    "colab": {
      "collapsed_sections": [],
      "include_colab_link": true,
      "name": "Tutorial.ipynb",
      "provenance": []
    },
    "kernelspec": {
      "display_name": "Python 3",
      "name": "python3"
    }
  },
  "nbformat": 4,
  "nbformat_minor": 0
}
